{
 "cells": [
  {
   "cell_type": "markdown",
   "metadata": {},
   "source": [
    "# Projection and interpolation\n",
    "## Approximation of a function into a finite element space"
   ]
  },
  {
   "cell_type": "markdown",
   "metadata": {},
   "source": [
    "Suppose that we have a continous function \n",
    "$$f: x\\in \\Omega\\to f(x)\\in \\mathbb{R}$$\n",
    "and we want to approximate it in the finite element space $$\\mathcal{V}_n=\\mathrm{span}\\{\\varphi_1,\\ldots,\\varphi_n\\}$$\n",
    "where the\n",
    "$\\varphi_i$'s are the finite element basis function. We denote the finite element approximation of $f$ by \n",
    "$$\n",
    "f_n(x):=\\sum_{i=1}^n F_i\\varphi_i(x)\n",
    "$$\n",
    "where $F_i$'s are the finite elment coefficient.\n",
    "\n",
    "We discuss two method to determine the $F_i$'s and hence $f_n$ given the function $f$ and the finite element space $\\mathcal{V}_n$:\n",
    "1. **Interpolation**\n",
    "2. **Projection**\n",
    "\n",
    "To make explicit example with FEniCS, let us define a mesh,  several finite element spaces on this mesh, and an analitical expression for a possible function $f$, that we will use in the example below. We take a quite large mesh to have an idea of the timings."
   ]
  },
  {
   "cell_type": "code",
   "execution_count": 1,
   "metadata": {},
   "outputs": [
    {
     "name": "stdout",
     "output_type": "stream",
     "text": [
      "The number of dof of the P1 space is 101101\n",
      "The number of dof of the DG space is 200000\n",
      "The number of dof of the P1_vect space is 202202\n",
      "The number of dof of the DG_vect space is 400000\n"
     ]
    }
   ],
   "source": [
    "import dolfin\n",
    "import matplotlib.pyplot as plt\n",
    "mesh = dolfin.UnitSquareMesh(1000,100) \n",
    "P1 = dolfin.FunctionSpace(mesh,'P',1)\n",
    "DG = dolfin.FunctionSpace(mesh,'DG',0)\n",
    "P1_vect = dolfin.VectorFunctionSpace(mesh,'P',1)\n",
    "DG_vect = dolfin.VectorFunctionSpace(mesh,'DG',0)\n",
    "f = dolfin.Expression(\"sin(x[0])*sin(x[1])\",degree=1)\n",
    "print(\"The number of dof of the P1 space is {:d}\".format(P1.dim()))\n",
    "print(\"The number of dof of the DG space is {:d}\".format(DG.dim()))\n",
    "print(\"The number of dof of the P1_vect space is {:d}\".format(P1_vect.dim()))\n",
    "print(\"The number of dof of the DG_vect space is {:d}\".format(DG_vect.dim()))"
   ]
  },
  {
   "cell_type": "markdown",
   "metadata": {},
   "source": [
    "## Interpolation\n",
    "\n",
    "We consider the case of Lagrange finite elements, where the degrees of freedom are the pointwise evaluation of functions in a set points, the *nodes*. Note that in linear elements the nodes concides with the vertices of the mesh, but in quadratic elements there are additional nodes. \n",
    "\n",
    "The interpolation imposes that for each *node* $j$ the pointwise evaluation of $f_n$ coincides with the poinwise evaluation of $f$. This give the system: \n",
    "\n",
    "$$\n",
    "f(x_j)=f_n(x_j), \\quad\\forall i=1\\ldots n\n",
    "$$\n",
    "\n",
    "A key property of the finite element basis function for Lagrrange elements is that $\\varphi_i(x_j)=1$ if $j=i$ and $0$ if $j\\neq i$. \n",
    "Hence \n",
    "\n",
    "$$\n",
    "f_n(x_j) :=\\sum_{i=1}^n F_i\\varphi_i(x_j)=F_j\n",
    "$$\n",
    "\n",
    "We can conclude that the interpolation of $f$ in $V_n$ is simply obtained taking $F_i=f(x_i)$:\n",
    "$$\n",
    "f_n^{(\\mathrm{int})}(x_j) = \\sum_{i=1}^n f(x_i)\\varphi_i(x_j)\n",
    "$$\n",
    "\n",
    "This is done with the command `fint_n = interpolate(f,V_n)` in FEniCS, see the example below. This is quite efficient in term of timing"
   ]
  },
  {
   "cell_type": "code",
   "execution_count": 2,
   "metadata": {},
   "outputs": [
    {
     "name": "stdout",
     "output_type": "stream",
     "text": [
      "CPU times: user 40.2 ms, sys: 694 µs, total: 40.9 ms\n",
      "Wall time: 41.2 ms\n"
     ]
    }
   ],
   "source": [
    "%%time\n",
    "f_interpolate_P1 = dolfin.interpolate(f,P1)"
   ]
  },
  {
   "cell_type": "markdown",
   "metadata": {},
   "source": [
    "Note that the following two direct interpolation of UFL expressions does not work:"
   ]
  },
  {
   "cell_type": "code",
   "execution_count": 3,
   "metadata": {},
   "outputs": [
    {
     "ename": "AttributeError",
     "evalue": "'Sum' object has no attribute '_cpp_object'",
     "output_type": "error",
     "traceback": [
      "\u001b[0;31m---------------------------------------------------------------------------\u001b[0m",
      "\u001b[0;31mAttributeError\u001b[0m                            Traceback (most recent call last)",
      "\u001b[0;32m<ipython-input-3-8e04e9946898>\u001b[0m in \u001b[0;36m<module>\u001b[0;34m\u001b[0m\n\u001b[1;32m      1\u001b[0m \u001b[0;31m# this does not work ufl_expression = grad(f)\u001b[0m\u001b[0;34m\u001b[0m\u001b[0;34m\u001b[0m\u001b[0;34m\u001b[0m\u001b[0m\n\u001b[0;32m----> 2\u001b[0;31m \u001b[0mdolfin\u001b[0m\u001b[0;34m.\u001b[0m\u001b[0minterpolate\u001b[0m\u001b[0;34m(\u001b[0m\u001b[0;36m2\u001b[0m\u001b[0;34m*\u001b[0m\u001b[0mf\u001b[0m\u001b[0;34m+\u001b[0m\u001b[0;36m3\u001b[0m\u001b[0;34m,\u001b[0m\u001b[0mP1\u001b[0m\u001b[0;34m)\u001b[0m\u001b[0;34m\u001b[0m\u001b[0;34m\u001b[0m\u001b[0m\n\u001b[0m",
      "\u001b[0;32m~/opt/anaconda3/envs/fenicsproject/lib/python3.8/site-packages/dolfin/fem/interpolation.py\u001b[0m in \u001b[0;36minterpolate\u001b[0;34m(v, V)\u001b[0m\n\u001b[1;32m     71\u001b[0m         \u001b[0mPv\u001b[0m\u001b[0;34m.\u001b[0m\u001b[0minterpolate\u001b[0m\u001b[0;34m(\u001b[0m\u001b[0mv\u001b[0m\u001b[0;34m.\u001b[0m\u001b[0m_cpp_object\u001b[0m\u001b[0;34m)\u001b[0m\u001b[0;34m\u001b[0m\u001b[0;34m\u001b[0m\u001b[0m\n\u001b[1;32m     72\u001b[0m     \u001b[0;32melse\u001b[0m\u001b[0;34m:\u001b[0m\u001b[0;34m\u001b[0m\u001b[0;34m\u001b[0m\u001b[0m\n\u001b[0;32m---> 73\u001b[0;31m         \u001b[0mPv\u001b[0m\u001b[0;34m.\u001b[0m\u001b[0minterpolate\u001b[0m\u001b[0;34m(\u001b[0m\u001b[0mv\u001b[0m\u001b[0;34m)\u001b[0m\u001b[0;34m\u001b[0m\u001b[0;34m\u001b[0m\u001b[0m\n\u001b[0m\u001b[1;32m     74\u001b[0m \u001b[0;34m\u001b[0m\u001b[0m\n\u001b[1;32m     75\u001b[0m     \u001b[0;32mreturn\u001b[0m \u001b[0mPv\u001b[0m\u001b[0;34m\u001b[0m\u001b[0;34m\u001b[0m\u001b[0m\n",
      "\u001b[0;32m~/opt/anaconda3/envs/fenicsproject/lib/python3.8/site-packages/dolfin/function/function.py\u001b[0m in \u001b[0;36minterpolate\u001b[0;34m(self, u)\u001b[0m\n\u001b[1;32m    363\u001b[0m             \u001b[0mself\u001b[0m\u001b[0;34m.\u001b[0m\u001b[0m_cpp_object\u001b[0m\u001b[0;34m.\u001b[0m\u001b[0minterpolate\u001b[0m\u001b[0;34m(\u001b[0m\u001b[0mu\u001b[0m\u001b[0;34m.\u001b[0m\u001b[0m_cpp_object\u001b[0m\u001b[0;34m)\u001b[0m\u001b[0;34m\u001b[0m\u001b[0;34m\u001b[0m\u001b[0m\n\u001b[1;32m    364\u001b[0m         \u001b[0;32melse\u001b[0m\u001b[0;34m:\u001b[0m\u001b[0;34m\u001b[0m\u001b[0;34m\u001b[0m\u001b[0m\n\u001b[0;32m--> 365\u001b[0;31m             \u001b[0mself\u001b[0m\u001b[0;34m.\u001b[0m\u001b[0m_cpp_object\u001b[0m\u001b[0;34m.\u001b[0m\u001b[0minterpolate\u001b[0m\u001b[0;34m(\u001b[0m\u001b[0mu\u001b[0m\u001b[0;34m)\u001b[0m\u001b[0;34m\u001b[0m\u001b[0;34m\u001b[0m\u001b[0m\n\u001b[0m\u001b[1;32m    366\u001b[0m \u001b[0;34m\u001b[0m\u001b[0m\n\u001b[1;32m    367\u001b[0m     \u001b[0;32mdef\u001b[0m \u001b[0mcompute_vertex_values\u001b[0m\u001b[0;34m(\u001b[0m\u001b[0mself\u001b[0m\u001b[0;34m,\u001b[0m \u001b[0mmesh\u001b[0m\u001b[0;34m=\u001b[0m\u001b[0;32mNone\u001b[0m\u001b[0;34m)\u001b[0m\u001b[0;34m:\u001b[0m\u001b[0;34m\u001b[0m\u001b[0;34m\u001b[0m\u001b[0m\n",
      "\u001b[0;31mAttributeError\u001b[0m: 'Sum' object has no attribute '_cpp_object'"
     ]
    }
   ],
   "source": [
    "# this does not work ufl_expression = grad(f)\n",
    "dolfin.interpolate(2*f+3,P1)"
   ]
  },
  {
   "cell_type": "code",
   "execution_count": null,
   "metadata": {},
   "outputs": [],
   "source": [
    "#grad_u = dolfin.grad(u_P1)\n",
    "dolfin.interpolate(dolfin.grad(f_interpolate_P1),DG_vect)"
   ]
  },
  {
   "cell_type": "markdown",
   "metadata": {},
   "source": [
    "## Projection\n",
    "\n",
    "The basic idea of the projection to obtaina finite element approximation of $f$ is to write the equality $f = f_h$ in weak form. We define the projection of $f$ in $\\mathcal{V}_n$ as the $f_n\\in\\mathcal{V}_h$ such that\n",
    "\n",
    "$$\n",
    "\\int_\\Omega f_h(x)\\cdot \\hat f(x),\\mathrm{d}x\n",
    "=\n",
    "\\int_\\Omega f(x)\\cdot \\hat f(x),\\mathrm{d}x,\\quad \\forall \\hat f \\in \\mathcal{V}_n\n",
    "$$\n",
    "\n",
    "In the weak form above  $f_h$ is the unknown 'trial function', $\\hat f$ is an arbritary test function in the finite element space, and $f$ is the given function to approximate. We ccan rewrite the equality above in the stardard form\n",
    "$$\n",
    "a(f_h,\\hat f)=\\ell(\\hat f), \\quad \\forall \\hat f \\in \\mathcal{V}_n\n",
    "$$\n",
    "where the bilinear and linear form are given by\n",
    "$$\n",
    "a(f_h,\\hat{f})= \\int_\\Omega f_h(x)\\cdot \\hat f(x),\\mathrm{d}x, \n",
    "\\quad \n",
    "\\ell(\\hat f)=\\int_\\Omega f(x)\\cdot \\hat f(x),\\mathrm{d}x,\n",
    "$$\n",
    "In the finite elmenent space, writing $f_h,\\hat{f}$ as linear combinations of the basis functions $\\varphi_i$'s, this weak fomulation gives the usual linear system\n",
    "$$\n",
    "\\underline{\\underline{A}} \\,\\underline{F}= \\underline{b},\\quad A_{ij}=a(\\varphi_i,\\varphi_i),\\quad b_j=\\ell(\\varphi_j)\n",
    "$$\n",
    "Hence the projection of $f$ in $\\mathcal{V}_n$ is given by \n",
    "$$\n",
    "f_n^{\\mathrm{(proj)}}(x_j) :=\\sum_{i=1}^n F_i\\varphi_i(x_j),\n",
    "$$\n",
    "with\n",
    "$F_i$'s solution of $A_{ij} F_j= b_i$\n",
    "\n",
    "We can do this operation by writing the weak formulation and solving the corresponding linear system. This takes more time, because solving a linear system is expensive."
   ]
  },
  {
   "cell_type": "code",
   "execution_count": null,
   "metadata": {},
   "outputs": [],
   "source": [
    "%%time\n",
    "f_proj_P1 = dolfin.Function(P1)\n",
    "f_test_P1 = dolfin.TestFunction(P1)\n",
    "f_trial_P1 = dolfin.TrialFunction(P1)\n",
    "a = f_trial_P1*f_test_P1*dolfin.dx\n",
    "L = f*f_test_P1*dolfin.dx\n",
    "A, b = dolfin.assemble_system(a,L)\n",
    "dolfin.solve(A,f_proj_P1.vector(),b)"
   ]
  },
  {
   "cell_type": "markdown",
   "metadata": {},
   "source": [
    "The function `project(f,V_n)` of dolfin does exactly this operation in one line:"
   ]
  },
  {
   "cell_type": "code",
   "execution_count": null,
   "metadata": {},
   "outputs": [],
   "source": [
    "%%time\n",
    "dolfin.project(f,P1)"
   ]
  },
  {
   "cell_type": "markdown",
   "metadata": {},
   "source": [
    "Projection is more expensive than interpolation. But more general. All of this work:"
   ]
  },
  {
   "cell_type": "code",
   "execution_count": null,
   "metadata": {},
   "outputs": [],
   "source": [
    "%%time\n",
    "dolfin.project(2*f+3,P1)\n",
    "gradf_proj_dg = dolfin.project(dolfin.grad(f_interpolate_P1),DG_vect)\n",
    "gradf_proj_p1 = dolfin.project(dolfin.grad(f_interpolate_P1),P1_vect)\n",
    "dolfin.plot(gradf_proj_dg)"
   ]
  },
  {
   "cell_type": "markdown",
   "metadata": {},
   "source": [
    "We can also project from one function space (and mesh) to another. For example, let us project on a coarse mesh."
   ]
  },
  {
   "cell_type": "code",
   "execution_count": null,
   "metadata": {},
   "outputs": [],
   "source": [
    "mesh_coarse = dolfin.UnitSquareMesh(10,10) \n",
    "gradf_proj_p1_coarse = dolfin.project(gradf_proj_p1,dolfin.VectorFunctionSpace(mesh_coarse,'DG',0))\n",
    "dolfin.plot(gradf_proj_p1_coarse)\n",
    "plt.show()"
   ]
  },
  {
   "cell_type": "markdown",
   "metadata": {},
   "source": [
    "In elasticity, projection is required to calculate strain and stress.\n",
    "Here an example, where we define an given displacement field (vector valued). We cannot do it by interpolation (at least in FEniCS)."
   ]
  },
  {
   "cell_type": "code",
   "execution_count": 4,
   "metadata": {},
   "outputs": [],
   "source": [
    "mesh = dolfin.UnitSquareMesh(10,10)\n",
    "P1_vect = dolfin.VectorFunctionSpace(mesh,\"P\",1)\n",
    "u = dolfin.interpolate(dolfin.Expression((\"sin(2*pi*x[0])\",\"cos(4*x[1])\"),degree=2), P1_vect)"
   ]
  },
  {
   "cell_type": "code",
   "execution_count": 5,
   "metadata": {},
   "outputs": [],
   "source": [
    "P1_tens = dolfin.TensorFunctionSpace(mesh,\"DG\",0)\n",
    "strain = dolfin.project(dolfin.sym(dolfin.grad(u)),P1_tens)"
   ]
  },
  {
   "cell_type": "code",
   "execution_count": 6,
   "metadata": {},
   "outputs": [
    {
     "data": {
      "image/png": "[encoded data removed]",
      "text/plain": [
       "<Figure size 432x288 with 1 Axes>"
      ]
     },
     "metadata": {
      "needs_background": "light"
     },
     "output_type": "display_data"
    }
   ],
   "source": [
    "dolfin.plot(strain[0,0])\n",
    "plt.title(r\"$\\varepsilon_{xx}$ - DG0 projection\")\n",
    "plt.xlabel(r\"$x[0]$\")\n",
    "plt.ylabel(r\"$x[1]$\")\n",
    "plt.show()"
   ]
  },
  {
   "cell_type": "code",
   "execution_count": null,
   "metadata": {},
   "outputs": [],
   "source": []
  }
 ],
 "metadata": {
  "kernelspec": {
   "display_name": "Python 3",
   "language": "python",
   "name": "python3"
  },
  "language_info": {
   "codemirror_mode": {
    "name": "ipython",
    "version": 3
   },
   "file_extension": ".py",
   "mimetype": "text/x-python",
   "name": "python",
   "nbconvert_exporter": "python",
   "pygments_lexer": "ipython3",
   "version": "3.8.2"
  }
 },
 "nbformat": 4,
 "nbformat_minor": 4
}
