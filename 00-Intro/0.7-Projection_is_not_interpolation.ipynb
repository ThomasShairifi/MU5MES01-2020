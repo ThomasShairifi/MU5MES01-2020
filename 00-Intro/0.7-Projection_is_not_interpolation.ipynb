{
 "cells": [
  {
   "cell_type": "markdown",
   "metadata": {},
   "source": [
    "# Interpolation is not Projection"
   ]
  },
  {
   "cell_type": "markdown",
   "metadata": {
    "slideshow": {
     "slide_type": "slide"
    }
   },
   "source": [
    "In this notebook we illustatre the difference between interpolating and projecting in FEniCS"
   ]
  },
  {
   "cell_type": "code",
   "execution_count": 39,
   "metadata": {},
   "outputs": [],
   "source": [
    "%matplotlib inline\n",
    "import dolfin as df\n",
    "import numpy as np\n",
    "import matplotlib.pyplot as plt"
   ]
  },
  {
   "cell_type": "markdown",
   "metadata": {},
   "source": [
    "## Mesh"
   ]
  },
  {
   "cell_type": "markdown",
   "metadata": {},
   "source": [
    "Let us a create a 1d mesh, of length 1, with uniform element size"
   ]
  },
  {
   "cell_type": "code",
   "execution_count": 40,
   "metadata": {},
   "outputs": [
    {
     "data": {
      "text/plain": [
       "[<matplotlib.lines.Line2D at 0x1211cf668>]"
      ]
     },
     "execution_count": 40,
     "metadata": {},
     "output_type": "execute_result"
    },
    {
     "data": {
      "image/png": "[encoded data removed]",
      "text/plain": [
       "<Figure size 432x288 with 1 Axes>"
      ]
     },
     "metadata": {
      "needs_background": "light"
     },
     "output_type": "display_data"
    }
   ],
   "source": [
    "mesh = df.UnitIntervalMesh(5)\n",
    "df.plot(mesh)"
   ]
  },
  {
   "cell_type": "markdown",
   "metadata": {
    "slideshow": {
     "slide_type": "slide"
    }
   },
   "source": [
    "# Finite Element Discrete Function Space"
   ]
  },
  {
   "cell_type": "markdown",
   "metadata": {},
   "source": [
    "Suppose that we have a continous function \n",
    "$$f: x\\in \\Omega\\to f(x)\\in \\mathbb{R}$$\n",
    "and we want to approximate it in the finite element space $$\\mathcal{V}_n=\\mathrm{span}\\{\\varphi_1,\\ldots,\\varphi_n\\}$$\n",
    "where the\n",
    "$\\varphi_i$'s are the finite element basis function. We denote the finite element approximation of $f$ by \n",
    "$$\n",
    "f_n(x):=\\sum_{i=1}^n F_i\\varphi_i(x)\n",
    "$$\n",
    "where $F_i$'s are the finite element coefficients.\n",
    "\n",
    "We discuss two methods to determine the $F_i$'s and hence $f_n$ given the function $f$ and the finite element space $\\mathcal{V}_n$:\n",
    "1. **Interpolation**\n",
    "2. **Projection**\n",
    "\n",
    "To make explicit example with FEniCS, let us define a mesh,  a finite element space on this mesh, and an analytical expression for a function $f$."
   ]
  },
  {
   "cell_type": "code",
   "execution_count": 3,
   "metadata": {},
   "outputs": [],
   "source": [
    "V = df.FunctionSpace(mesh,\"P\",1)"
   ]
  },
  {
   "cell_type": "code",
   "execution_count": 42,
   "metadata": {},
   "outputs": [],
   "source": [
    "f = df.Expression('sin(5*pow(x[0],2))', degree = 4)"
   ]
  },
  {
   "cell_type": "markdown",
   "metadata": {},
   "source": [
    "## Interpolation\n",
    "\n",
    "We consider the case of Lagrange finite elements, where the degrees of freedom are the pointwise evaluation of functions in a set points, the *nodes*. Note that in linear elements the nodes concide with the vertices of the mesh, but in quadratic elements there are additional nodes. \n",
    "\n",
    "The interpolation imposes that for each *node* $j$ the pointwise evaluation of $f_n$ coincides with the pointwise evaluation of $f$. This give the system: \n",
    "\n",
    "$$\n",
    "f(x_j)=f_n(x_j), \\quad\\forall i=1\\ldots n\n",
    "$$\n",
    "\n",
    "A key property of the finite element basis function for Lagrrange elements is that $\\varphi_i(x_j)=1$ if $j=i$ and $0$ if $j\\neq i$. \n",
    "Hence \n",
    "\n",
    "$$\n",
    "f_n(x_j) :=\\sum_{i=1}^n F_i\\varphi_i(x_j)=F_j\n",
    "$$\n",
    "\n",
    "We can conclude that the interpolation of $f$ in $V_n$ is simply obtained taking $F_i=f(x_i)$:\n",
    "$$\n",
    "f_n^{(\\mathrm{int})}(x_j) = \\sum_{i=1}^n f(x_i)\\varphi_i(x_j)\n",
    "$$\n",
    "\n",
    "This is done with the command `fint_n = interpolate(f,V_n)` in FEniCS, see the example below. This is quite efficient in terms of timing."
   ]
  },
  {
   "cell_type": "code",
   "execution_count": 44,
   "metadata": {},
   "outputs": [],
   "source": [
    "f_inter = df.interpolate(f,V)"
   ]
  },
  {
   "cell_type": "code",
   "execution_count": 45,
   "metadata": {},
   "outputs": [
    {
     "data": {
      "text/plain": [
       "array([-0.95892427, -0.05837414,  0.97384763,  0.71735609,  0.19866933,\n",
       "        0.        ])"
      ]
     },
     "execution_count": 45,
     "metadata": {},
     "output_type": "execute_result"
    }
   ],
   "source": [
    "# components of f_inter\n",
    "f_inter.vector().get_local()"
   ]
  },
  {
   "cell_type": "markdown",
   "metadata": {},
   "source": [
    "## Projection\n",
    "\n",
    "The basic idea of the projection to obtain a finite element approximation $f_n$ of $f$ is to write the equality $f = f_n$ in weak form. We define the projection of $f$ in $\\mathcal{V}_n$ as the function $f_n\\in\\mathcal{V}_h$ such that\n",
    "\n",
    "$$\n",
    "\\int_\\Omega f_n(x)\\cdot \\hat f(x),\\mathrm{d}x\n",
    "=\n",
    "\\int_\\Omega f(x)\\cdot \\hat f(x),\\mathrm{d}x,\\quad \\forall \\hat f \\in \\mathcal{V}_n\n",
    "$$\n",
    "\n",
    "In the weak form above  $f_n$ is the unknown 'trial function', $\\hat f$ is an arbritary test function in the finite element space, and $f$ is the given function to approximate. We can rewrite the equality above in the stardard form\n",
    "$$\n",
    "a(f_n,\\hat f)=\\ell(\\hat f), \\quad \\forall \\hat f \\in \\mathcal{V}_n\n",
    "$$\n",
    "where the bilinear and linear form are given by\n",
    "$$\n",
    "a(f_n,\\hat{f})= \\int_\\Omega f_n(x)\\cdot \\hat f(x),\\mathrm{d}x, \n",
    "\\quad \n",
    "\\ell(\\hat f)=\\int_\\Omega f(x)\\cdot \\hat f(x),\\mathrm{d}x,\n",
    "$$\n",
    "In the finite element space, writing $f_n$ and $\\hat{f}$ as linear combinations of the basis functions $\\varphi_i$'s, this weak fomulation gives the usual linear system\n",
    "$$\n",
    "\\underline{\\underline{A}} \\,\\underline{F}= \\underline{b},\\quad A_{ij}=a(\\varphi_i,\\varphi_j),\\quad b_j=\\ell(\\varphi_j)\n",
    "$$\n",
    "Hence the projection of $f$ in $\\mathcal{V}_n$ is given by \n",
    "$$\n",
    "f_n^{\\mathrm{(proj)}}(x_j) :=\\sum_{i=1}^n F_i\\varphi_i(x_j),\n",
    "$$\n",
    "where\n",
    "$F_i$ is the solution to $A_{ij} F_j= b_i$.\n",
    "\n"
   ]
  },
  {
   "cell_type": "code",
   "execution_count": 49,
   "metadata": {},
   "outputs": [],
   "source": [
    "f_proj = df.project(f,V)"
   ]
  },
  {
   "cell_type": "code",
   "execution_count": 47,
   "metadata": {},
   "outputs": [
    {
     "data": {
      "text/plain": [
       "array([-1.25496561, -0.06308938,  1.11798238,  0.72771294,  0.16759063,\n",
       "       -0.03386298])"
      ]
     },
     "execution_count": 47,
     "metadata": {},
     "output_type": "execute_result"
    }
   ],
   "source": [
    "# componenets of f_proj\n",
    "f_proj.vector().get_local()"
   ]
  },
  {
   "cell_type": "markdown",
   "metadata": {},
   "source": [
    "# We now compare the two"
   ]
  },
  {
   "cell_type": "code",
   "execution_count": 48,
   "metadata": {},
   "outputs": [
    {
     "data": {
      "text/plain": [
       "<matplotlib.legend.Legend at 0x12129cba8>"
      ]
     },
     "execution_count": 48,
     "metadata": {},
     "output_type": "execute_result"
    },
    {
     "data": {
      "image/png": "[encoded data removed]",
      "text/plain": [
       "<Figure size 432x288 with 1 Axes>"
      ]
     },
     "metadata": {
      "needs_background": "light"
     },
     "output_type": "display_data"
    }
   ],
   "source": [
    "# we plot sin( 5 x^2 )\n",
    "# and we compare to the interpolation and the projection\n",
    "x = np.linspace(0, 1, 150)\n",
    "y = np.sin(5*x**2)\n",
    "plt.plot(x,y,label='numpy')\n",
    "df.plot(f_inter,label='interpolation')\n",
    "df.plot(f_proj,label='projection')\n",
    "plt.xlabel('x',color='red',fontsize=15)\n",
    "plt.ylabel('f',color='red',fontsize=15)\n",
    "plt.legend()"
   ]
  },
  {
   "cell_type": "code",
   "execution_count": null,
   "metadata": {},
   "outputs": [],
   "source": [
    "# EOF"
   ]
  }
 ],
 "metadata": {
  "kernel_info": {
   "name": "python3"
  },
  "kernelspec": {
   "display_name": "Python 3",
   "language": "python",
   "name": "python3"
  },
  "language_info": {
   "codemirror_mode": {
    "name": "ipython",
    "version": 3
   },
   "file_extension": ".py",
   "mimetype": "text/x-python",
   "name": "python",
   "nbconvert_exporter": "python",
   "pygments_lexer": "ipython3",
   "version": "3.7.3"
  },
  "nteract": {
   "version": "0.15.0"
  }
 },
 "nbformat": 4,
 "nbformat_minor": 4
}
